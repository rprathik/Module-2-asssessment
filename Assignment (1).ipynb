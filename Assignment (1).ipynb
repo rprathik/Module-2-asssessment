{
 "cells": [
  {
   "cell_type": "markdown",
   "id": "b13cd174-1036-4dde-9544-41e84acec9bc",
   "metadata": {},
   "source": [
    "# My Jupyter Notebook on IBM Watson Studio"
   ]
  },
  {
   "cell_type": "markdown",
   "id": "e5f564dc-e8a7-4645-9cf5-4c6df3f2db6e",
   "metadata": {},
   "source": [
    "**Prathik Ramachandran**      \n",
    "Product Owner"
   ]
  },
  {
   "cell_type": "markdown",
   "id": "c1b78761-7602-4266-aaca-7b75f27ae6d3",
   "metadata": {},
   "source": [
    "*I am interested in Data science as it helps understand the customer better equip organizations in making the right decisions*"
   ]
  },
  {
   "cell_type": "markdown",
   "id": "42613b51-2d53-4732-b495-04d4dd14900a",
   "metadata": {},
   "source": [
    "### The below code executes 10 multiplied by difference of 100 and 90"
   ]
  },
  {
   "cell_type": "code",
   "execution_count": 9,
   "id": "18d67edd-04c4-4cf0-a617-3e80a8372d9f",
   "metadata": {},
   "outputs": [
    {
     "data": {
      "text/plain": [
       "100"
      ]
     },
     "execution_count": 9,
     "metadata": {},
     "output_type": "execute_result"
    }
   ],
   "source": [
    "10 * (100-90)"
   ]
  },
  {
   "cell_type": "markdown",
   "id": "77bc2f0e-0d44-4538-92b5-437992c6a888",
   "metadata": {},
   "source": [
    "* This paragraph contains:\n",
    "    * A bullet point for A,B,C,D ....\n",
    "    * sub- bullet point for a,b,c,d ....\n",
    "    1. numbered bullet point for 1,2,3,4....\n",
    "    2. also for Roamn number I,II,III,IV....\n",
    "***\n",
    "~~It also has a Table~~\n",
    "\n",
    "It also has a horizontal line and a strikethrough text"
   ]
  },
  {
   "cell_type": "code",
   "execution_count": null,
   "id": "b36cf355-a53f-407f-948d-28604fa53653",
   "metadata": {},
   "outputs": [],
   "source": []
  }
 ],
 "metadata": {
  "kernelspec": {
   "display_name": "Python",
   "language": "python",
   "name": "conda-env-python-py"
  },
  "language_info": {
   "codemirror_mode": {
    "name": "ipython",
    "version": 3
   },
   "file_extension": ".py",
   "mimetype": "text/x-python",
   "name": "python",
   "nbconvert_exporter": "python",
   "pygments_lexer": "ipython3",
   "version": "3.7.12"
  }
 },
 "nbformat": 4,
 "nbformat_minor": 5
}
